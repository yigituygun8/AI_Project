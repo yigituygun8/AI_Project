{
  "cells": [
    {
      "cell_type": "code",
      "execution_count": null,
      "metadata": {
        "colab": {
          "base_uri": "https://localhost:8080/"
        },
        "id": "msS1ksMCbcOZ",
        "outputId": "489c52ea-9f57-4442-f6e0-5aa3dfdbd4d7"
      },
      "outputs": [
        {
          "name": "stdout",
          "output_type": "stream",
          "text": [
            "Python version: 3.8.16 (default, Dec  7 2022, 01:12:13) \n",
            "[GCC 7.5.0], sys.version_info(major=3, minor=8, micro=16, releaselevel='final', serial=0) \n",
            "Pytorch version: 1.13.0+cu116 \n"
          ]
        }
      ],
      "source": [
        "# model eğitimi için kütüphanelerin import edilmesi\n",
        "import sys\n",
        "import torch\n",
        "print(f\"Python version: {sys.version}, {sys.version_info} \")\n",
        "print(f\"Pytorch version: {torch.__version__} \")"
      ]
    },
    {
      "cell_type": "code",
      "execution_count": null,
      "metadata": {
        "colab": {
          "base_uri": "https://localhost:8080/"
        },
        "id": "YXYeCw4FoFDc",
        "outputId": "3f6b18da-8554-4890-b12c-ea770dc643fd"
      },
      "outputs": [
        {
          "name": "stdout",
          "output_type": "stream",
          "text": [
            "Mounted at /content/drive\n"
          ]
        }
      ],
      "source": [
        "# google colab üzerinden Drive'a erişim sağlanır\n",
        "from google.colab import drive\n",
        "drive.mount('/content/drive')"
      ]
    },
    {
      "cell_type": "code",
      "execution_count": null,
      "metadata": {
        "id": "lv74Az94oUMX"
      },
      "outputs": [],
      "source": [
        "# model eğitimi için kullanılan veri seti zip formatından ayıklanır\n",
        "!unzip -q /content/drive/MyDrive/yolov7_son/data_son.zip"
      ]
    },
    {
      "cell_type": "code",
      "execution_count": null,
      "metadata": {
        "colab": {
          "base_uri": "https://localhost:8080/"
        },
        "id": "yCnuiIXjbcLq",
        "outputId": "6e354aba-5665-4983-f0f3-b1ccf1facd41"
      },
      "outputs": [
        {
          "name": "stdout",
          "output_type": "stream",
          "text": [
            "Sat Jan 14 15:09:34 2023       \n",
            "+-----------------------------------------------------------------------------+\n",
            "| NVIDIA-SMI 460.32.03    Driver Version: 460.32.03    CUDA Version: 11.2     |\n",
            "|-------------------------------+----------------------+----------------------+\n",
            "| GPU  Name        Persistence-M| Bus-Id        Disp.A | Volatile Uncorr. ECC |\n",
            "| Fan  Temp  Perf  Pwr:Usage/Cap|         Memory-Usage | GPU-Util  Compute M. |\n",
            "|                               |                      |               MIG M. |\n",
            "|===============================+======================+======================|\n",
            "|   0  Tesla T4            Off  | 00000000:00:04.0 Off |                    0 |\n",
            "| N/A   46C    P8     9W /  70W |      0MiB / 15109MiB |      0%      Default |\n",
            "|                               |                      |                  N/A |\n",
            "+-------------------------------+----------------------+----------------------+\n",
            "                                                                               \n",
            "+-----------------------------------------------------------------------------+\n",
            "| Processes:                                                                  |\n",
            "|  GPU   GI   CI        PID   Type   Process name                  GPU Memory |\n",
            "|        ID   ID                                                   Usage      |\n",
            "|=============================================================================|\n",
            "|  No running processes found                                                 |\n",
            "+-----------------------------------------------------------------------------+\n"
          ]
        }
      ],
      "source": [
        "# GPU bağlantısı\n",
        "!nvidia-smi"
      ]
    },
    {
      "cell_type": "code",
      "execution_count": null,
      "metadata": {
        "colab": {
          "base_uri": "https://localhost:8080/"
        },
        "id": "utxvpmuibcI7",
        "outputId": "67d1e500-e218-4412-c348-ec8c7477b0ab"
      },
      "outputs": [],
      "source": [
        "# YOLOv7 GitHub repository klonlanır \n",
        "!git clone https://github.com/WongKinYiu/yolov7\n",
        "%cd yolov7\n",
        "!ls"
      ]
    },
    {
      "cell_type": "code",
      "execution_count": null,
      "metadata": {
        "colab": {
          "base_uri": "https://localhost:8080/"
        },
        "id": "KhApWfeKbcFG",
        "outputId": "25e0d0b9-d61d-4594-eecc-138e1b691ab1"
      },
      "outputs": [],
      "source": [
        "!# Önceden eğitimli ağırlıklar indirilir\n",
        "!wget https://github.com/WongKinYiu/yolov7/releases/download/v0.1/yolov7.pt"
      ]
    },
    {
      "cell_type": "code",
      "execution_count": null,
      "metadata": {
        "colab": {
          "base_uri": "https://localhost:8080/"
        },
        "id": "Qi6DV7I_ozwn",
        "outputId": "bf4118ad-48da-4385-99fe-f041755743a6"
      },
      "outputs": [],
      "source": [
        "# Model eğitimi\n",
        "!python train.py  --device 0 --batch-size 16 --data data/coco.yaml --img 640 640  --weights yolov7.pt --name yolov7  --hyp data/hyp.scratch.p5.yaml --epochs 100"
      ]
    },
    {
      "cell_type": "code",
      "execution_count": null,
      "metadata": {
        "colab": {
          "base_uri": "https://localhost:8080/"
        },
        "id": "xI5DiyI2bcAK",
        "outputId": "8700e657-9580-4c60-f196-12d9224c4060"
      },
      "outputs": [],
      "source": [
        "!# Nesne tespiti - NOT: Tespit için klasör içerisinde yer alan üç modelden best.pt olanın kullanılması tavsiye edilir.\n",
        "!python detect.py --weights /content/best.pt --conf 0.25 --img-size 640 --source /content/deneme1.png"
      ]
    },
    {
      "cell_type": "code",
      "execution_count": null,
      "metadata": {
        "id": "bp7rVA0nbn-O"
      },
      "outputs": [],
      "source": [
        "# Etiketlenen görsel OpenCV ile yazdırılır (isteğe bağlı)\n",
        "def imShow(path):\n",
        "  import cv2\n",
        "  import matplotlib.pyplot as plt\n",
        "  %matplotlib inline\n",
        "\n",
        "  image = cv2.imread(path)\n",
        "  height, width = image.shape[:2]\n",
        "  resized_image = cv2.resize(image,(3*width, 3*height), interpolation = cv2.INTER_CUBIC)\n",
        "\n",
        "  fig = plt.gcf()\n",
        "  fig.set_size_inches(18, 10)\n",
        "  plt.axis(\"off\")\n",
        "  plt.imshow(cv2.cvtColor(resized_image, cv2.COLOR_BGR2RGB))\n",
        "  plt.show()"
      ]
    },
    {
      "cell_type": "code",
      "execution_count": null,
      "metadata": {
        "colab": {
          "base_uri": "https://localhost:8080/",
          "height": 283
        },
        "id": "aId1iLXtb7KA",
        "outputId": "2e7015f3-3b9b-4f7b-c8c6-f28eb99610fe"
      },
      "outputs": [],
      "source": [
        "imShow(\"/content/yolov7/runs/detect/exp/dosya_adi.jpg/png/jpeg\")"
      ]
    }
  ],
  "metadata": {
    "accelerator": "GPU",
    "colab": {
      "provenance": []
    },
    "gpuClass": "standard",
    "kernelspec": {
      "display_name": "Python 3.10.8 64-bit",
      "language": "python",
      "name": "python3"
    },
    "language_info": {
      "name": "python",
      "version": "3.10.8"
    },
    "vscode": {
      "interpreter": {
        "hash": "aee8b7b246df8f9039afb4144a1f6fd8d2ca17a180786b69acc140d282b71a49"
      }
    }
  },
  "nbformat": 4,
  "nbformat_minor": 0
}
